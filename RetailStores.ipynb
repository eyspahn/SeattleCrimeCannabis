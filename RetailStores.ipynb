{
 "cells": [
  {
   "cell_type": "code",
   "execution_count": 1,
   "metadata": {
    "collapsed": false
   },
   "outputs": [
    {
     "data": {
      "text/plain": [
       "'3.5.2 |Continuum Analytics, Inc.| (default, Jul  2 2016, 17:52:12) \\n[GCC 4.2.1 Compatible Apple LLVM 4.2 (clang-425.0.28)]'"
      ]
     },
     "execution_count": 1,
     "metadata": {},
     "output_type": "execute_result"
    }
   ],
   "source": [
    "import sys\n",
    "sys.version"
   ]
  },
  {
   "cell_type": "code",
   "execution_count": 4,
   "metadata": {
    "collapsed": false
   },
   "outputs": [],
   "source": [
    "import pandas as pd\n",
    "import numpy as np\n",
    "import pandas_profiling\n",
    "import matplotlib.pyplot as plt\n",
    "import seaborn as sns\n",
    "\n",
    "%matplotlib notebook\n",
    "plt.style.use('ggplot')"
   ]
  },
  {
   "cell_type": "code",
   "execution_count": 13,
   "metadata": {
    "collapsed": false
   },
   "outputs": [],
   "source": [
    "df = pd.read_excel('MarijuanaApplicants01032017.xls', sheetname='Retailers 01-03-17', index_col=None)"
   ]
  },
  {
   "cell_type": "code",
   "execution_count": 14,
   "metadata": {
    "collapsed": false
   },
   "outputs": [
    {
     "data": {
      "text/plain": [
       "Index(['Tradename', 'License #', 'UBI', 'Street Address', 'Suite/Rm', 'City',\n",
       "       'State', 'County', 'ZipCode', 'PrivDesc', 'PrivilegeStatus',\n",
       "       'ReasonAction', 'DateCreated', 'DayPhone'],\n",
       "      dtype='object')"
      ]
     },
     "execution_count": 14,
     "metadata": {},
     "output_type": "execute_result"
    }
   ],
   "source": [
    "df.columns"
   ]
  },
  {
   "cell_type": "code",
   "execution_count": 15,
   "metadata": {
    "collapsed": false
   },
   "outputs": [
    {
     "data": {
      "text/plain": [
       "Tradename          object\n",
       "License #           int64\n",
       "UBI                 int64\n",
       "Street Address     object\n",
       "Suite/Rm           object\n",
       "City               object\n",
       "State              object\n",
       "County             object\n",
       "ZipCode            object\n",
       "PrivDesc           object\n",
       "PrivilegeStatus    object\n",
       "ReasonAction       object\n",
       "DateCreated        object\n",
       "DayPhone           object\n",
       "dtype: object"
      ]
     },
     "execution_count": 15,
     "metadata": {},
     "output_type": "execute_result"
    }
   ],
   "source": [
    "df.dtypes"
   ]
  },
  {
   "cell_type": "code",
   "execution_count": 16,
   "metadata": {
    "collapsed": false
   },
   "outputs": [
    {
     "data": {
      "text/plain": [
       "(1838, 14)"
      ]
     },
     "execution_count": 16,
     "metadata": {},
     "output_type": "execute_result"
    }
   ],
   "source": [
    "df.shape"
   ]
  },
  {
   "cell_type": "code",
   "execution_count": 21,
   "metadata": {
    "collapsed": false
   },
   "outputs": [
    {
     "data": {
      "text/plain": [
       "PENDING            1370\n",
       "APPROVED            400\n",
       "DISCONTINUED         51\n",
       "WITHDRAWN            16\n",
       "WITHHOLD              1\n",
       "Name: ReasonAction, dtype: int64"
      ]
     },
     "execution_count": 21,
     "metadata": {},
     "output_type": "execute_result"
    }
   ],
   "source": [
    "df.ReasonAction.value_counts()"
   ]
  },
  {
   "cell_type": "code",
   "execution_count": 23,
   "metadata": {
    "collapsed": false
   },
   "outputs": [
    {
     "data": {
      "text/plain": [
       "PENDING (NOT ISSUED)    1315\n",
       "ACTIVE (ISSUED)          416\n",
       "CLOSED (PERMANENT)        61\n",
       "PENDING (ISSUED)          45\n",
       "CLOSED (TEMPORARY)         1\n",
       "Name: PrivilegeStatus, dtype: int64"
      ]
     },
     "execution_count": 23,
     "metadata": {},
     "output_type": "execute_result"
    }
   ],
   "source": [
    "df.PrivilegeStatus.value_counts()"
   ]
  },
  {
   "cell_type": "code",
   "execution_count": 28,
   "metadata": {
    "collapsed": false
   },
   "outputs": [
    {
     "data": {
      "text/plain": [
       "724             \n",
       "1223            \n",
       "1054            \n",
       "852             \n",
       "1162            \n",
       "315             \n",
       "915             \n",
       "1066            \n",
       "938             \n",
       "1415            \n",
       "261             \n",
       "1406            \n",
       "725             \n",
       "280             \n",
       "1345            \n",
       "203             \n",
       "1607            \n",
       "1663    20131119\n",
       "646     20131119\n",
       "1503    20131120\n",
       "1299    20131120\n",
       "1822    20131122\n",
       "922     20131123\n",
       "854     20131203\n",
       "1575    20131210\n",
       "1598    20131214\n",
       "1668    20131214\n",
       "1669    20131214\n",
       "1042    20131217\n",
       "1460    20131217\n",
       "          ...   \n",
       "943     20161223\n",
       "1248    20161224\n",
       "1344    20161227\n",
       "485     20161227\n",
       "1636    20161227\n",
       "1638    20161227\n",
       "720     20161227\n",
       "1249    20161227\n",
       "1324    20161228\n",
       "1335    20161228\n",
       "655     20161228\n",
       "224     20161228\n",
       "1357    20161228\n",
       "1651    20161228\n",
       "322     20161228\n",
       "1044    20161229\n",
       "359     20161229\n",
       "639     20161229\n",
       "1655    20161229\n",
       "1708    20161229\n",
       "640     20161229\n",
       "1246    20161230\n",
       "59      20161230\n",
       "1396    20161230\n",
       "981     20161230\n",
       "1099    20161230\n",
       "1154    20161231\n",
       "1199    20161231\n",
       "1257    20161231\n",
       "563     20161231\n",
       "Name: DateCreated, dtype: object"
      ]
     },
     "execution_count": 28,
     "metadata": {},
     "output_type": "execute_result"
    }
   ],
   "source": [
    "df.DateCreated.sort_values()"
   ]
  },
  {
   "cell_type": "code",
   "execution_count": 22,
   "metadata": {
    "collapsed": false
   },
   "outputs": [
    {
     "data": {
      "text/html": [
       "<div>\n",
       "<table border=\"1\" class=\"dataframe\">\n",
       "  <thead>\n",
       "    <tr style=\"text-align: right;\">\n",
       "      <th></th>\n",
       "      <th>Tradename</th>\n",
       "      <th>License #</th>\n",
       "      <th>UBI</th>\n",
       "      <th>Street Address</th>\n",
       "      <th>Suite/Rm</th>\n",
       "      <th>City</th>\n",
       "      <th>State</th>\n",
       "      <th>County</th>\n",
       "      <th>ZipCode</th>\n",
       "      <th>PrivDesc</th>\n",
       "      <th>PrivilegeStatus</th>\n",
       "      <th>ReasonAction</th>\n",
       "      <th>DateCreated</th>\n",
       "      <th>DayPhone</th>\n",
       "    </tr>\n",
       "  </thead>\n",
       "  <tbody>\n",
       "    <tr>\n",
       "      <th>0</th>\n",
       "      <td>#1 POT STOP</td>\n",
       "      <td>421905</td>\n",
       "      <td>6032170680010006</td>\n",
       "      <td>3005 NORTHVIEW CIRCLE</td>\n",
       "      <td></td>\n",
       "      <td>SHELTON</td>\n",
       "      <td>WA</td>\n",
       "      <td>MASON</td>\n",
       "      <td>985842948</td>\n",
       "      <td>MARIJUANA RETAILER</td>\n",
       "      <td>ACTIVE (ISSUED)</td>\n",
       "      <td>APPROVED</td>\n",
       "      <td>20160818</td>\n",
       "      <td>2063292223</td>\n",
       "    </tr>\n",
       "    <tr>\n",
       "      <th>1</th>\n",
       "      <td>#1 POT STOP</td>\n",
       "      <td>422219</td>\n",
       "      <td>6032170680010007</td>\n",
       "      <td>140 GAGE BLVD</td>\n",
       "      <td>STE 204</td>\n",
       "      <td>RICHLAND</td>\n",
       "      <td>WA</td>\n",
       "      <td>BENTON</td>\n",
       "      <td>993528916</td>\n",
       "      <td>MARIJUANA RETAILER</td>\n",
       "      <td>PENDING (NOT ISSUED)</td>\n",
       "      <td>PENDING</td>\n",
       "      <td>20160302</td>\n",
       "      <td>2063292223</td>\n",
       "    </tr>\n",
       "    <tr>\n",
       "      <th>2</th>\n",
       "      <td>#HASHTAG</td>\n",
       "      <td>414884</td>\n",
       "      <td>6033581390010001</td>\n",
       "      <td>3540 STONE WAY N</td>\n",
       "      <td></td>\n",
       "      <td>SEATTLE</td>\n",
       "      <td>WA</td>\n",
       "      <td>KING</td>\n",
       "      <td>981038924</td>\n",
       "      <td>MARIJUANA RETAILER</td>\n",
       "      <td>ACTIVE (ISSUED)</td>\n",
       "      <td>APPROVED</td>\n",
       "      <td>20160308</td>\n",
       "      <td>3608184000</td>\n",
       "    </tr>\n",
       "    <tr>\n",
       "      <th>3</th>\n",
       "      <td>1 LOVE</td>\n",
       "      <td>422867</td>\n",
       "      <td>6026959270010002</td>\n",
       "      <td>262 N MAIN ST</td>\n",
       "      <td></td>\n",
       "      <td>COLVILLE</td>\n",
       "      <td>WA</td>\n",
       "      <td>STEVENS</td>\n",
       "      <td>991142308</td>\n",
       "      <td>MARIJUANA RETAILER</td>\n",
       "      <td>PENDING (NOT ISSUED)</td>\n",
       "      <td>PENDING</td>\n",
       "      <td>20160402</td>\n",
       "      <td>5093857928</td>\n",
       "    </tr>\n",
       "    <tr>\n",
       "      <th>4</th>\n",
       "      <td>112TH STREET CANNABIS</td>\n",
       "      <td>423413</td>\n",
       "      <td>6033491670010006</td>\n",
       "      <td>5809 112TH ST E BLDG B</td>\n",
       "      <td></td>\n",
       "      <td>PUYALLUP</td>\n",
       "      <td>WA</td>\n",
       "      <td>PIERCE</td>\n",
       "      <td>983734323</td>\n",
       "      <td>MARIJUANA RETAILER</td>\n",
       "      <td>ACTIVE (ISSUED)</td>\n",
       "      <td>APPROVED</td>\n",
       "      <td>20161014</td>\n",
       "      <td>2067926857</td>\n",
       "    </tr>\n",
       "  </tbody>\n",
       "</table>\n",
       "</div>"
      ],
      "text/plain": [
       "                                       Tradename  License #               UBI  \\\n",
       "0  #1 POT STOP                                       421905  6032170680010006   \n",
       "1  #1 POT STOP                                       422219  6032170680010007   \n",
       "2  #HASHTAG                                          414884  6033581390010001   \n",
       "3  1 LOVE                                            422867  6026959270010002   \n",
       "4  112TH STREET CANNABIS                             423413  6033491670010006   \n",
       "\n",
       "                   Street Address                   Suite/Rm  \\\n",
       "0  3005 NORTHVIEW CIRCLE                                       \n",
       "1  140 GAGE BLVD                   STE 204                     \n",
       "2  3540 STONE WAY N                                            \n",
       "3  262 N MAIN ST                                               \n",
       "4  5809 112TH ST E BLDG B                                      \n",
       "\n",
       "                       City State   County    ZipCode  \\\n",
       "0  SHELTON                     WA    MASON  985842948   \n",
       "1  RICHLAND                    WA   BENTON  993528916   \n",
       "2  SEATTLE                     WA     KING  981038924   \n",
       "3  COLVILLE                    WA  STEVENS  991142308   \n",
       "4  PUYALLUP                    WA   PIERCE  983734323   \n",
       "\n",
       "                              PrivDesc       PrivilegeStatus     ReasonAction  \\\n",
       "0  MARIJUANA RETAILER                        ACTIVE (ISSUED)  APPROVED          \n",
       "1  MARIJUANA RETAILER                   PENDING (NOT ISSUED)  PENDING           \n",
       "2  MARIJUANA RETAILER                        ACTIVE (ISSUED)  APPROVED          \n",
       "3  MARIJUANA RETAILER                   PENDING (NOT ISSUED)  PENDING           \n",
       "4  MARIJUANA RETAILER                        ACTIVE (ISSUED)  APPROVED          \n",
       "\n",
       "  DateCreated    DayPhone  \n",
       "0    20160818  2063292223  \n",
       "1    20160302  2063292223  \n",
       "2    20160308  3608184000  \n",
       "3    20160402  5093857928  \n",
       "4    20161014  2067926857  "
      ]
     },
     "execution_count": 22,
     "metadata": {},
     "output_type": "execute_result"
    }
   ],
   "source": [
    "df.head()"
   ]
  },
  {
   "cell_type": "code",
   "execution_count": 29,
   "metadata": {
    "collapsed": true
   },
   "outputs": [],
   "source": [
    "# The date appears not to be a good reflection of the date retail stores opened.\n",
    "# We can use the tax obligation records to find start of sales.\n"
   ]
  },
  {
   "cell_type": "code",
   "execution_count": 37,
   "metadata": {
    "collapsed": true
   },
   "outputs": [],
   "source": [
    "taxdf = pd.read_excel('MJTaxObligationbyLicenseethru01_09_17.xlsx', parse_cols=3, names = [\"license\", \"timeperiod\", 'totalsales', 'taxdue'])"
   ]
  },
  {
   "cell_type": "code",
   "execution_count": 38,
   "metadata": {
    "collapsed": false
   },
   "outputs": [
    {
     "data": {
      "text/html": [
       "<div>\n",
       "<table border=\"1\" class=\"dataframe\">\n",
       "  <thead>\n",
       "    <tr style=\"text-align: right;\">\n",
       "      <th></th>\n",
       "      <th>license</th>\n",
       "      <th>timeperiod</th>\n",
       "      <th>totalsales</th>\n",
       "      <th>taxdue</th>\n",
       "    </tr>\n",
       "  </thead>\n",
       "  <tbody>\n",
       "    <tr>\n",
       "      <th>0</th>\n",
       "      <td>License Number</td>\n",
       "      <td>Reporting Period</td>\n",
       "      <td>Total Sales</td>\n",
       "      <td>Excise Tax Due</td>\n",
       "    </tr>\n",
       "    <tr>\n",
       "      <th>1</th>\n",
       "      <td>412618</td>\n",
       "      <td>6/1/2014 - 6/30/2014</td>\n",
       "      <td>3240</td>\n",
       "      <td>810</td>\n",
       "    </tr>\n",
       "    <tr>\n",
       "      <th>2</th>\n",
       "      <td>412194</td>\n",
       "      <td>6/1/2014 - 6/30/2014</td>\n",
       "      <td>1140</td>\n",
       "      <td>285</td>\n",
       "    </tr>\n",
       "    <tr>\n",
       "      <th>3</th>\n",
       "      <td>419150</td>\n",
       "      <td>6/1/2014 - 6/30/2014</td>\n",
       "      <td>1920</td>\n",
       "      <td>480</td>\n",
       "    </tr>\n",
       "    <tr>\n",
       "      <th>4</th>\n",
       "      <td>PRODUCERS PERIOD TOTAL</td>\n",
       "      <td>6/1/2014 - 6/30/2014</td>\n",
       "      <td>6300</td>\n",
       "      <td>1575</td>\n",
       "    </tr>\n",
       "  </tbody>\n",
       "</table>\n",
       "</div>"
      ],
      "text/plain": [
       "                  license            timeperiod   totalsales          taxdue\n",
       "0          License Number      Reporting Period  Total Sales  Excise Tax Due\n",
       "1                  412618  6/1/2014 - 6/30/2014         3240             810\n",
       "2                  412194  6/1/2014 - 6/30/2014         1140             285\n",
       "3                  419150  6/1/2014 - 6/30/2014         1920             480\n",
       "4  PRODUCERS PERIOD TOTAL  6/1/2014 - 6/30/2014         6300            1575"
      ]
     },
     "execution_count": 38,
     "metadata": {},
     "output_type": "execute_result"
    }
   ],
   "source": [
    "taxdf.head()"
   ]
  },
  {
   "cell_type": "code",
   "execution_count": 34,
   "metadata": {
    "collapsed": true
   },
   "outputs": [],
   "source": [
    "# We can match up each retailers's first reporting period to the license number"
   ]
  },
  {
   "cell_type": "code",
   "execution_count": 39,
   "metadata": {
    "collapsed": false
   },
   "outputs": [],
   "source": [
    "df.join?"
   ]
  },
  {
   "cell_type": "code",
   "execution_count": null,
   "metadata": {
    "collapsed": true
   },
   "outputs": [],
   "source": []
  }
 ],
 "metadata": {
  "anaconda-cloud": {},
  "kernelspec": {
   "display_name": "Python [conda env:seacancrime]",
   "language": "python",
   "name": "conda-env-seacancrime-py"
  },
  "language_info": {
   "codemirror_mode": {
    "name": "ipython",
    "version": 3
   },
   "file_extension": ".py",
   "mimetype": "text/x-python",
   "name": "python",
   "nbconvert_exporter": "python",
   "pygments_lexer": "ipython3",
   "version": "3.5.2"
  }
 },
 "nbformat": 4,
 "nbformat_minor": 2
}
